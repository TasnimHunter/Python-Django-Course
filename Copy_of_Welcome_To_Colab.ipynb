{
  "cells": [
    {
      "cell_type": "markdown",
      "metadata": {
        "id": "view-in-github",
        "colab_type": "text"
      },
      "source": [
        "<a href=\"https://colab.research.google.com/github/TasnimHunter/Python-Django-Course/blob/main/Copy_of_Welcome_To_Colab.ipynb\" target=\"_parent\"><img src=\"https://colab.research.google.com/assets/colab-badge.svg\" alt=\"Open In Colab\"/></a>"
      ]
    },
    {
      "cell_type": "markdown",
      "source": [
        "# Practice File Handling"
      ],
      "metadata": {
        "id": "1B_KUVVYIl4N"
      }
    },
    {
      "cell_type": "markdown",
      "metadata": {
        "id": "GJBs_flRovLc"
      },
      "source": [
        "<div class=\"markdown-google-sans\">\n",
        "\n",
        " **Code for File Handling in Python**\n",
        "1. Writing to a File\n",
        "</div>\n",
        "\n"
      ]
    },
    {
      "cell_type": "code",
      "execution_count": null,
      "metadata": {
        "id": "gJr_9dXGpJ05",
        "outputId": "bfe66433-12bb-4b42-982e-a362f4b06948",
        "colab": {
          "base_uri": "https://localhost:8080/"
        }
      },
      "outputs": [
        {
          "output_type": "stream",
          "name": "stdout",
          "text": [
            "Written to example.txt\n"
          ]
        }
      ],
      "source": [
        "def write_to_file(file_name, text):\n",
        "    with open(file_name, 'w') as file:\n",
        "        file.write(text)\n",
        "    print(f\"Written to {file_name}\")\n",
        "\n",
        "# Example usage\n",
        "write_to_file('example.txt', 'Hello, this is a test file.')"
      ]
    },
    {
      "cell_type": "markdown",
      "metadata": {
        "id": "2fhs6GZ4qFMx"
      },
      "source": [
        "2. Reading from a File"
      ]
    },
    {
      "cell_type": "code",
      "execution_count": null,
      "metadata": {
        "id": "-gE-Ez1qtyIA",
        "outputId": "a0921c76-5dd8-4436-d5b1-f1f38c5cbb95",
        "colab": {
          "base_uri": "https://localhost:8080/"
        }
      },
      "outputs": [
        {
          "output_type": "stream",
          "name": "stdout",
          "text": [
            "Content of example.txt:\n",
            "Hello, this is a test file.\n"
          ]
        }
      ],
      "source": [
        "def read_from_file(file_name):\n",
        "    with open(file_name, 'r') as file:\n",
        "        content = file.read()\n",
        "    print(f\"Content of {file_name}:\")\n",
        "    print(content)\n",
        "\n",
        "# Example usage\n",
        "read_from_file('example.txt')"
      ]
    },
    {
      "cell_type": "markdown",
      "metadata": {
        "id": "lSrWNr3MuFUS"
      },
      "source": [
        "3. Deleting a File"
      ]
    },
    {
      "cell_type": "code",
      "source": [
        "import os\n",
        "\n",
        "def delete_file(file_name):\n",
        "    if os.path.exists(file_name):\n",
        "        os.remove(file_name)\n",
        "        print(f\"{file_name} has been deleted.\")\n",
        "    else:\n",
        "        print(f\"{file_name} does not exist.\")\n",
        "\n",
        "# Example usage\n",
        "delete_file('example.txt')"
      ],
      "metadata": {
        "id": "cixVUWgxHuaw",
        "outputId": "62092d0f-4e45-4297-aa6a-19632d7369f0",
        "colab": {
          "base_uri": "https://localhost:8080/"
        }
      },
      "execution_count": null,
      "outputs": [
        {
          "output_type": "stream",
          "name": "stdout",
          "text": [
            "example.txt has been deleted.\n"
          ]
        }
      ]
    },
    {
      "cell_type": "markdown",
      "metadata": {
        "id": "4_kCnsPUqS6o"
      },
      "source": [
        "4. Updating a File"
      ]
    },
    {
      "cell_type": "code",
      "execution_count": null,
      "metadata": {
        "colab": {
          "base_uri": "https://localhost:8080/"
        },
        "id": "C4HZx7Gndbrh",
        "outputId": "4331ce0e-9815-4857-9b58-bdbeda0c2586"
      },
      "outputs": [
        {
          "output_type": "stream",
          "name": "stdout",
          "text": [
            "Written to example.txt\n",
            "Appended to example.txt\n"
          ]
        }
      ],
      "source": [
        "def update_file(file_name, text):\n",
        "    with open(file_name, 'a') as file:\n",
        "        file.write(text)\n",
        "    print(f\"Appended to {file_name}\")\n",
        "\n",
        "# Example usage\n",
        "write_to_file('example.txt', 'Hello, this is a test file.')\n",
        "update_file('example.txt', '\\nThis is an appended line.')"
      ]
    }
  ],
  "metadata": {
    "colab": {
      "toc_visible": true,
      "provenance": [],
      "include_colab_link": true
    },
    "kernelspec": {
      "display_name": "Python 3",
      "name": "python3"
    }
  },
  "nbformat": 4,
  "nbformat_minor": 0
}