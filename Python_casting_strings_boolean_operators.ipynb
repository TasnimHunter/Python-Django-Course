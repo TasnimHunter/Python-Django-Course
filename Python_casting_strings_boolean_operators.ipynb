{
  "nbformat": 4,
  "nbformat_minor": 0,
  "metadata": {
    "colab": {
      "provenance": [],
      "toc_visible": true,
      "authorship_tag": "ABX9TyMmEpGRVcRqWEaBYu7iHkjH",
      "include_colab_link": true
    },
    "kernelspec": {
      "name": "python3",
      "display_name": "Python 3"
    },
    "language_info": {
      "name": "python"
    }
  },
  "cells": [
    {
      "cell_type": "markdown",
      "metadata": {
        "id": "view-in-github",
        "colab_type": "text"
      },
      "source": [
        "<a href=\"https://colab.research.google.com/github/TasnimHunter/Python-Django-Course/blob/main/Python_casting_strings_boolean_operators.ipynb\" target=\"_parent\"><img src=\"https://colab.research.google.com/assets/colab-badge.svg\" alt=\"Open In Colab\"/></a>"
      ]
    },
    {
      "cell_type": "markdown",
      "source": [
        "# Python Casting, Strings, Boolean, and Operators"
      ],
      "metadata": {
        "id": "V6RWybJcNT-h"
      }
    },
    {
      "cell_type": "code",
      "execution_count": null,
      "metadata": {
        "id": "MLMHb-ldMEwb"
      },
      "outputs": [],
      "source": [
        "# --- Casting Section ---\n",
        "\n",
        "x = int(1)  # x will be 1\n",
        "print(\"Casting float to int:\", x)\n",
        "\n",
        "y = float(\"3.14\")  # y will be 3.14\n",
        "print(\"Casting string to float:\", y)\n",
        "\n",
        "z = str(100)  # z will be '100'\n",
        "print(\"Casting int to string:\", z)"
      ]
    },
    {
      "cell_type": "markdown",
      "source": [
        "\n",
        " **Strings Section **"
      ],
      "metadata": {
        "id": "YIjJ8dtnNYaY"
      }
    },
    {
      "cell_type": "code",
      "source": [
        "# --- Strings Section ---\n",
        "\n",
        "# Example: Creating and printing strings\n",
        "my_string = \"Hello, World!\"\n",
        "print(\"String example:\", my_string)\n",
        "\n",
        "# String Slicing\n",
        "print(\"String slicing (0-5):\", my_string[0:5])\n",
        "\n",
        "# String Length\n",
        "print(\"Length of string:\", len(my_string))\n",
        "\n",
        "# String Methods\n",
        "print(\"Convert to upper case:\", my_string.upper())\n",
        "print(\"Replace part of the string:\", my_string.replace(\"World\", \"Python\"))"
      ],
      "metadata": {
        "id": "o-L2umqRMtCT"
      },
      "execution_count": null,
      "outputs": []
    },
    {
      "cell_type": "markdown",
      "source": [
        "** Boolean Section **"
      ],
      "metadata": {
        "id": "3jdwdtTINcSO"
      }
    },
    {
      "cell_type": "code",
      "source": [
        "# Example: Boolean Values\n",
        "print(\"Boolean True:\", bool(1))\n",
        "print(\"Boolean False:\", bool(0))\n",
        "\n",
        "# Example: Using Boolean in conditions\n",
        "x = 5\n",
        "y = 10\n",
        "if x < y:\n",
        "    print(\"x is less than y\")"
      ],
      "metadata": {
        "id": "Ii1cY-0aM6GO"
      },
      "execution_count": null,
      "outputs": []
    },
    {
      "cell_type": "markdown",
      "source": [
        " **Operators Section **"
      ],
      "metadata": {
        "id": "c2-QRRVXNeA3"
      }
    },
    {
      "cell_type": "code",
      "source": [
        "# Arithmetic Operators\n",
        "x = 10\n",
        "y = 3\n",
        "print(\"Addition:\", x + y)\n",
        "print(\"Subtraction:\", x - y)\n",
        "print(\"Multiplication:\", x * y)\n",
        "print(\"Division:\", x / y)\n",
        "print(\"Modulus:\", x % y)\n",
        "print(\"Exponentiation:\", x ** y)\n",
        "print(\"Floor Division:\", x // y)\n",
        "\n",
        "# Comparison Operators\n",
        "print(\"x equals y:\", x == y)\n",
        "print(\"x not equals y:\", x != y)\n",
        "print(\"x greater than y:\", x > y)\n",
        "print(\"x less than y:\", x < y)\n",
        "\n",
        "# Logical Operators\n",
        "print(\"x > 5 and y < 5:\", x > 5 and y < 5)\n",
        "print(\"x > 5 or y < 5:\", x > 5 or y < 5)\n",
        "\n",
        "# Bitwise Operators\n",
        "x = 5  # Binary: 0101\n",
        "y = 3  # Binary: 0011\n",
        "print(\"x & y:\", x & y)  # Binary AND\n",
        "print(\"x | y:\", x | y)  # Binary OR\n",
        "print(\"x ^ y:\", x ^ y)  # Binary XOR"
      ],
      "metadata": {
        "id": "al9lPeCqNJpj"
      },
      "execution_count": null,
      "outputs": []
    }
  ]
}