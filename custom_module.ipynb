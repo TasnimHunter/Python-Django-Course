{
  "nbformat": 4,
  "nbformat_minor": 0,
  "metadata": {
    "colab": {
      "provenance": [],
      "authorship_tag": "ABX9TyOcQ+9rxkR/s9Ted6pG5c4V",
      "include_colab_link": true
    },
    "kernelspec": {
      "name": "python3",
      "display_name": "Python 3"
    },
    "language_info": {
      "name": "python"
    }
  },
  "cells": [
    {
      "cell_type": "markdown",
      "metadata": {
        "id": "view-in-github",
        "colab_type": "text"
      },
      "source": [
        "<a href=\"https://colab.research.google.com/github/TasnimHunter/Python-Django-Course/blob/main/custom_module.ipynb\" target=\"_parent\"><img src=\"https://colab.research.google.com/assets/colab-badge.svg\" alt=\"Open In Colab\"/></a>"
      ]
    },
    {
      "cell_type": "markdown",
      "source": [
        "# Function: getMissingVals"
      ],
      "metadata": {
        "id": "x-UWcbkfPHs7"
      }
    },
    {
      "cell_type": "code",
      "execution_count": null,
      "metadata": {
        "colab": {
          "base_uri": "https://localhost:8080/"
        },
        "id": "JgZL_vaCO_46",
        "outputId": "5b8a6aeb-677c-4424-f6db-8c39ab1dd107"
      },
      "outputs": [
        {
          "output_type": "stream",
          "name": "stdout",
          "text": [
            "[4, 5, 6]\n",
            "[13, 14]\n",
            "No missing Val\n"
          ]
        }
      ],
      "source": [
        "def getMissingVals(lst, endOfFirstList, startOf2ndList):\n",
        "\n",
        "    first_part = lst[:endOfFirstList + 1]\n",
        "    second_part = lst[startOf2ndList:]\n",
        "\n",
        "    # Generate the range of expected values between the last value of the first part and the first value of the second part\n",
        "    expected_values = list(range(first_part[-1] + 1, second_part[0]))\n",
        "\n",
        "\n",
        "    if not expected_values:\n",
        "        return \"No missing Val\"\n",
        "    else:\n",
        "        return expected_values\n",
        "\n",
        "\n",
        "if __name__ == \"__main__\":\n",
        "    print(getMissingVals([1, 2, 3, 7, 8, 9], 2, 3))\n",
        "    print(getMissingVals([10, 11, 12, 15, 16, 17], 2, 3))\n",
        "    print(getMissingVals([1, 2, 3, 4, 5, 6], 2, 3))\n"
      ]
    }
  ]
}